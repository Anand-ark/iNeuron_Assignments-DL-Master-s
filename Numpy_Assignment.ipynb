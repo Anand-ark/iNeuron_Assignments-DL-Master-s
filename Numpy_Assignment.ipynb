{
  "nbformat": 4,
  "nbformat_minor": 0,
  "metadata": {
    "colab": {
      "name": "Numpy_Assignment.ipynb",
      "provenance": []
    },
    "kernelspec": {
      "name": "python3",
      "display_name": "Python 3"
    }
  },
  "cells": [
    {
      "cell_type": "code",
      "metadata": {
        "id": "Lu3MXa01GNhS",
        "colab_type": "code",
        "colab": {}
      },
      "source": [
        "import numpy as np"
      ],
      "execution_count": 0,
      "outputs": []
    },
    {
      "cell_type": "markdown",
      "metadata": {
        "id": "ovAPg-tZF2e2",
        "colab_type": "text"
      },
      "source": [
        "**Problem Statement 1:**Write a function so that the columns of the output matrix are powers of the input vector.\n",
        "\n",
        "The order of the powers is determined by the increasing boolean argument. Specifically, when increasing is False, the i-th output column is the input vector raised element-wise to the power of N - i - 1.\n",
        "\n",
        "HINT: Such a matrix with a geometric progression in each row is named for AlexandreTheophile Vandermonde."
      ]
    },
    {
      "cell_type": "code",
      "metadata": {
        "id": "CEnR0s1ZF67e",
        "colab_type": "code",
        "colab": {}
      },
      "source": [
        "def vanderm(x,N,increasing):\n",
        "  #if N is not Specified in the Argument or N=None\n",
        "  if(N==None and increasing==False):\n",
        "    result1=[[x[i]**(len(x)-j) for j in range(1,len(x)+1)] for i in range(0,len(x))]\n",
        "    return np.array(result1)\n",
        "  elif(N==None and increasing==True):\n",
        "    result2=[[x[i]**(j) for j in range(0,len(x))] for i in range(0,len(x))]\n",
        "    return np.array(result2)\n",
        "  #if N is Specified in the Argument\n",
        "  elif(increasing==False):\n",
        "    result3=[[x[i]**(N-j) for j in range(1,N+1)] for i in range(0,len(x)) ]\n",
        "    return np.array(result3)\n",
        "  else:\n",
        "    result4=[[x[i]**(j) for j in range(0,N)] for i in range(0,len(x)) ]\n",
        "    return np.array(result4)"
      ],
      "execution_count": 0,
      "outputs": []
    },
    {
      "cell_type": "code",
      "metadata": {
        "id": "gc-aH9mbFVd1",
        "colab_type": "code",
        "colab": {
          "base_uri": "https://localhost:8080/",
          "height": 121
        },
        "outputId": "333577b8-9b43-43bd-a498-86089cf31c26"
      },
      "source": [
        "vanderm([1,2,3,4,5,6],None,True)"
      ],
      "execution_count": 5,
      "outputs": [
        {
          "output_type": "execute_result",
          "data": {
            "text/plain": [
              "array([[   1,    1,    1,    1,    1,    1],\n",
              "       [   1,    2,    4,    8,   16,   32],\n",
              "       [   1,    3,    9,   27,   81,  243],\n",
              "       [   1,    4,   16,   64,  256, 1024],\n",
              "       [   1,    5,   25,  125,  625, 3125],\n",
              "       [   1,    6,   36,  216, 1296, 7776]])"
            ]
          },
          "metadata": {
            "tags": []
          },
          "execution_count": 5
        }
      ]
    },
    {
      "cell_type": "code",
      "metadata": {
        "id": "WLc_UP0lGViJ",
        "colab_type": "code",
        "colab": {
          "base_uri": "https://localhost:8080/",
          "height": 121
        },
        "outputId": "db9b1362-77f3-46a2-fee0-ded536dc7400"
      },
      "source": [
        "vanderm([1,2,3,4,5,6],None,False)"
      ],
      "execution_count": 6,
      "outputs": [
        {
          "output_type": "execute_result",
          "data": {
            "text/plain": [
              "array([[   1,    1,    1,    1,    1,    1],\n",
              "       [  32,   16,    8,    4,    2,    1],\n",
              "       [ 243,   81,   27,    9,    3,    1],\n",
              "       [1024,  256,   64,   16,    4,    1],\n",
              "       [3125,  625,  125,   25,    5,    1],\n",
              "       [7776, 1296,  216,   36,    6,    1]])"
            ]
          },
          "metadata": {
            "tags": []
          },
          "execution_count": 6
        }
      ]
    },
    {
      "cell_type": "code",
      "metadata": {
        "id": "xiugewPnGlhj",
        "colab_type": "code",
        "colab": {
          "base_uri": "https://localhost:8080/",
          "height": 121
        },
        "outputId": "4b2e8272-0a66-46f9-91c3-9ffbd92b3e04"
      },
      "source": [
        "vanderm([1,2,3,4,5,6],3,True)"
      ],
      "execution_count": 7,
      "outputs": [
        {
          "output_type": "execute_result",
          "data": {
            "text/plain": [
              "array([[ 1,  1,  1],\n",
              "       [ 1,  2,  4],\n",
              "       [ 1,  3,  9],\n",
              "       [ 1,  4, 16],\n",
              "       [ 1,  5, 25],\n",
              "       [ 1,  6, 36]])"
            ]
          },
          "metadata": {
            "tags": []
          },
          "execution_count": 7
        }
      ]
    },
    {
      "cell_type": "code",
      "metadata": {
        "id": "BTOfj73xGpAN",
        "colab_type": "code",
        "colab": {
          "base_uri": "https://localhost:8080/",
          "height": 121
        },
        "outputId": "f38a1fd8-0c42-4611-860a-3cfe65df8d30"
      },
      "source": [
        "vanderm([1,2,3,4,5,6],3,False)"
      ],
      "execution_count": 8,
      "outputs": [
        {
          "output_type": "execute_result",
          "data": {
            "text/plain": [
              "array([[ 1,  1,  1],\n",
              "       [ 4,  2,  1],\n",
              "       [ 9,  3,  1],\n",
              "       [16,  4,  1],\n",
              "       [25,  5,  1],\n",
              "       [36,  6,  1]])"
            ]
          },
          "metadata": {
            "tags": []
          },
          "execution_count": 8
        }
      ]
    },
    {
      "cell_type": "markdown",
      "metadata": {
        "id": "RA_oLwytG4Mq",
        "colab_type": "text"
      },
      "source": [
        "**Problem Statement 2:**\n",
        "Given a sequence of n values x1, x2, ..., xn and a window size k>0, the k-th moving average of\n",
        "the given sequence is defined as follows:\n",
        "\n",
        "The moving average sequence has n-k+1 elements as shown below.\n",
        "\n",
        "The moving averages with k=4 of a ten-value sequence (n=10) is shown \n",
        "below\n",
        "\n",
        "\n",
        "i 1 2 3 4 5 6 7 8 9 10\n",
        "\n",
        "===== == == == == == == == == == ==\n",
        "\n",
        "Input 10 20 30 40 50 60 70 80 90 100\n",
        "\n",
        "y1 25 = (10+20+30+40)/4\n",
        "\n",
        "y2 35 = (20+30+40+50)/4\n",
        "\n",
        "y3 45 = (30+40+50+60)/4\n",
        "\n",
        "y4 55 = (40+50+60+70)/4\n",
        "\n",
        "y5 65 = (50+60+70+80)/4\n",
        "\n",
        "y6 75 = (60+70+80+90)/4\n",
        "\n",
        "y7 85 = (70+80+90+100)/4\n",
        "\n",
        "Thus, the moving average sequence has n-k+1=10-4+1=7 values."
      ]
    },
    {
      "cell_type": "markdown",
      "metadata": {
        "id": "VoenutZkHZpu",
        "colab_type": "text"
      },
      "source": [
        "**Question:** Write a function to find moving average in an array over a window:\n",
        "\n",
        "Test it over [3, 5, 7, 2, 8, 10, 11, 65, 72, 81, 99, 100, 150] and window of 3."
      ]
    },
    {
      "cell_type": "code",
      "metadata": {
        "id": "K1WleZTzHkKD",
        "colab_type": "code",
        "colab": {}
      },
      "source": [
        "def movavg(a,w):\n",
        "  a=np.array(a)\n",
        "  print('\\n Original array : \\n',a)\n",
        "  print('\\n Thus, the moving average sequence of above array is : \\n')\n",
        "  for i in range(0,len(a)-w+1):\n",
        "    ans=np.sum(a[i:w+i])/w\n",
        "    print('Y' + str(i+1),round(ans,2))"
      ],
      "execution_count": 0,
      "outputs": []
    },
    {
      "cell_type": "code",
      "metadata": {
        "id": "usKcz9MoIeXz",
        "colab_type": "code",
        "colab": {
          "base_uri": "https://localhost:8080/",
          "height": 242
        },
        "outputId": "d6347bac-e544-4076-8283-eabb5509da89"
      },
      "source": [
        "a=[10, 20, 30, 40, 50, 60, 70, 80, 90, 100]\n",
        "movavg(a,4)"
      ],
      "execution_count": 25,
      "outputs": [
        {
          "output_type": "stream",
          "text": [
            "\n",
            " Original array : \n",
            " [ 10  20  30  40  50  60  70  80  90 100]\n",
            "\n",
            " Thus, the moving average sequence of above array is : \n",
            "\n",
            "Y1 25.0\n",
            "Y2 35.0\n",
            "Y3 45.0\n",
            "Y4 55.0\n",
            "Y5 65.0\n",
            "Y6 75.0\n",
            "Y7 85.0\n"
          ],
          "name": "stdout"
        }
      ]
    },
    {
      "cell_type": "code",
      "metadata": {
        "id": "5hD4sxMXJdXl",
        "colab_type": "code",
        "colab": {
          "base_uri": "https://localhost:8080/",
          "height": 311
        },
        "outputId": "d4d8fa9b-79ad-4e0b-dec0-cda4681712a8"
      },
      "source": [
        "a=[3, 5, 7, 2, 8, 10, 11, 65, 72, 81, 99, 100, 150]\n",
        "movavg(a,3)"
      ],
      "execution_count": 26,
      "outputs": [
        {
          "output_type": "stream",
          "text": [
            "\n",
            " Original array : \n",
            " [  3   5   7   2   8  10  11  65  72  81  99 100 150]\n",
            "\n",
            " Thus, the moving average sequence of above array is : \n",
            "\n",
            "Y1 5.0\n",
            "Y2 4.67\n",
            "Y3 5.67\n",
            "Y4 6.67\n",
            "Y5 9.67\n",
            "Y6 28.67\n",
            "Y7 49.33\n",
            "Y8 72.67\n",
            "Y9 84.0\n",
            "Y10 93.33\n",
            "Y11 116.33\n"
          ],
          "name": "stdout"
        }
      ]
    }
  ]
}