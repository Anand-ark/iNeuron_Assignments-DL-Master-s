{
  "nbformat": 4,
  "nbformat_minor": 0,
  "metadata": {
    "colab": {
      "name": "Python Assignment 2.ipynb",
      "provenance": []
    },
    "kernelspec": {
      "name": "python3",
      "display_name": "Python 3"
    }
  },
  "cells": [
    {
      "cell_type": "markdown",
      "metadata": {
        "id": "YHTWfenJRwRd",
        "colab_type": "text"
      },
      "source": [
        "**Q1.**Create the below pattern using nested for loop in Python."
      ]
    },
    {
      "cell_type": "code",
      "metadata": {
        "id": "UYDu-HPYRt-4",
        "colab_type": "code",
        "colab": {
          "base_uri": "https://localhost:8080/",
          "height": 363
        },
        "outputId": "70a15757-572b-41ed-b4f9-c80f638b58e2"
      },
      "source": [
        "for i in range(0,5):\n",
        "    for j in range(0,i+1):\n",
        "        print(\"*\",end=\" \")\n",
        "    print(\"\\n\")\n",
        "for i in range(0,5):\n",
        "    for k in range(0,4-i):\n",
        "        print(\"*\",end=\" \")\n",
        "    print(\"\\n\")"
      ],
      "execution_count": 7,
      "outputs": [
        {
          "output_type": "stream",
          "text": [
            "* \n",
            "\n",
            "* * \n",
            "\n",
            "* * * \n",
            "\n",
            "* * * * \n",
            "\n",
            "* * * * * \n",
            "\n",
            "* * * * \n",
            "\n",
            "* * * \n",
            "\n",
            "* * \n",
            "\n",
            "* \n",
            "\n",
            "\n",
            "\n"
          ],
          "name": "stdout"
        }
      ]
    },
    {
      "cell_type": "markdown",
      "metadata": {
        "id": "4JvCP4RQSAAO",
        "colab_type": "text"
      },
      "source": [
        "**Q2.**Write a Python program to reverse a word after accepting the input from the user."
      ]
    },
    {
      "cell_type": "code",
      "metadata": {
        "id": "gr0lhtaNPxO4",
        "colab_type": "code",
        "outputId": "681b7847-9bbb-4486-b969-5091908ad401",
        "colab": {
          "base_uri": "https://localhost:8080/",
          "height": 104
        }
      },
      "source": [
        "name=input(\"Enter First word\\n\")\n",
        "print('\\n Word in Reverse Order : \\n',name[::-1])"
      ],
      "execution_count": 20,
      "outputs": [
        {
          "output_type": "stream",
          "text": [
            "Enter First word\n",
            "ineuron\n",
            "\n",
            " Word in Reverse Order : \n",
            " norueni\n"
          ],
          "name": "stdout"
        }
      ]
    }
  ]
}