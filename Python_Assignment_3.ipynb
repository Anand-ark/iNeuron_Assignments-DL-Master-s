{
  "nbformat": 4,
  "nbformat_minor": 0,
  "metadata": {
    "colab": {
      "name": "Python Assignment 3.ipynb",
      "provenance": []
    },
    "kernelspec": {
      "name": "python3",
      "display_name": "Python 3"
    }
  },
  "cells": [
    {
      "cell_type": "markdown",
      "metadata": {
        "id": "YHTWfenJRwRd",
        "colab_type": "text"
      },
      "source": [
        "**Q1.1** Write a Python Program to implement your own myreduce() function which works exactly\n",
        "like Python's built-in function reduce()"
      ]
    },
    {
      "cell_type": "code",
      "metadata": {
        "id": "UYDu-HPYRt-4",
        "colab_type": "code",
        "colab": {}
      },
      "source": [
        "def myreduce(func,sequence):\n",
        "    result=sequence[0]\n",
        "    for num in sequence[1:]:\n",
        "        result=func(result,num)\n",
        "    return result"
      ],
      "execution_count": 0,
      "outputs": []
    },
    {
      "cell_type": "code",
      "metadata": {
        "id": "54YnnGqXUa70",
        "colab_type": "code",
        "colab": {
          "base_uri": "https://localhost:8080/",
          "height": 35
        },
        "outputId": "c6e77623-799f-44d5-c6c3-c3acc79b3d4f"
      },
      "source": [
        "#test our own myreduce() function\n",
        "def product(x,y):\n",
        "    return x*y\n",
        "#call the function\n",
        "myreduce(product,[5,6,7,8,9])"
      ],
      "execution_count": 22,
      "outputs": [
        {
          "output_type": "execute_result",
          "data": {
            "text/plain": [
              "15120"
            ]
          },
          "metadata": {
            "tags": []
          },
          "execution_count": 22
        }
      ]
    },
    {
      "cell_type": "markdown",
      "metadata": {
        "id": "4JvCP4RQSAAO",
        "colab_type": "text"
      },
      "source": [
        "**Q1.2** Write a Python program to implement your own myfilter() function which works exactly like Python's built-in function filter()"
      ]
    },
    {
      "cell_type": "code",
      "metadata": {
        "id": "gr0lhtaNPxO4",
        "colab_type": "code",
        "colab": {}
      },
      "source": [
        "def myfilter(fun,sequence):\n",
        "    r=[]\n",
        "    for num in sequence:\n",
        "        if fun(num):\n",
        "            r.append(num)\n",
        "    return r"
      ],
      "execution_count": 0,
      "outputs": []
    },
    {
      "cell_type": "code",
      "metadata": {
        "id": "JbX0OBf1UvIS",
        "colab_type": "code",
        "colab": {
          "base_uri": "https://localhost:8080/",
          "height": 35
        },
        "outputId": "2fd3622e-ed80-44fd-fbc3-c23c5031a4c0"
      },
      "source": [
        "#test myFilter function:\n",
        "def iseven(a):\n",
        "    if(a%2==0):\n",
        "        return True\n",
        "    else:\n",
        "        return False\n",
        "#call the function\n",
        "myfilter(iseven,[1,3,47,52,10,2,4,5,6,7])"
      ],
      "execution_count": 26,
      "outputs": [
        {
          "output_type": "execute_result",
          "data": {
            "text/plain": [
              "[52, 10, 2, 4, 6]"
            ]
          },
          "metadata": {
            "tags": []
          },
          "execution_count": 26
        }
      ]
    },
    {
      "cell_type": "markdown",
      "metadata": {
        "id": "5ldRiVlIU8L9",
        "colab_type": "text"
      },
      "source": [
        "**Q2.** Implement List comprehensions to produce the following lists.\n",
        "\n",
        "\n",
        "Write List comprehensions to produce the following Lists"
      ]
    },
    {
      "cell_type": "markdown",
      "metadata": {
        "id": "bkJ4JBgOVOPc",
        "colab_type": "text"
      },
      "source": [
        "['x', 'xx', 'xxx', 'xxxx', 'y', 'yy', 'yyy', 'yyyy', 'z', 'zz', 'zzz', 'zzzz']"
      ]
    },
    {
      "cell_type": "code",
      "metadata": {
        "id": "ucxMp3eeVQKQ",
        "colab_type": "code",
        "colab": {
          "base_uri": "https://localhost:8080/",
          "height": 35
        },
        "outputId": "49375497-bd2f-462a-9c70-78155b3d10a8"
      },
      "source": [
        "a=['x', 'y', 'z']\n",
        "result2=[i*num for i in a for num in range(1,5)]\n",
        "result2"
      ],
      "execution_count": 27,
      "outputs": [
        {
          "output_type": "execute_result",
          "data": {
            "text/plain": [
              "['x', 'xx', 'xxx', 'xxxx', 'y', 'yy', 'yyy', 'yyyy', 'z', 'zz', 'zzz', 'zzzz']"
            ]
          },
          "metadata": {
            "tags": []
          },
          "execution_count": 27
        }
      ]
    },
    {
      "cell_type": "markdown",
      "metadata": {
        "id": "Dh09puFvVZ1R",
        "colab_type": "text"
      },
      "source": [
        "['x', 'y', 'z', 'xx', 'yy', 'zz', 'xx', 'yy', 'zz', 'xxxx', 'yyyy', 'zzzz']"
      ]
    },
    {
      "cell_type": "code",
      "metadata": {
        "id": "PdIDYZcmVehG",
        "colab_type": "code",
        "colab": {
          "base_uri": "https://localhost:8080/",
          "height": 35
        },
        "outputId": "a5b837f4-d15b-4de2-d2bc-7132883fc838"
      },
      "source": [
        "b=['x','y','z']\n",
        "result3=[i*num for num in range(1,5) for i in b]\n",
        "result3"
      ],
      "execution_count": 28,
      "outputs": [
        {
          "output_type": "execute_result",
          "data": {
            "text/plain": [
              "['x', 'y', 'z', 'xx', 'yy', 'zz', 'xxx', 'yyy', 'zzz', 'xxxx', 'yyyy', 'zzzz']"
            ]
          },
          "metadata": {
            "tags": []
          },
          "execution_count": 28
        }
      ]
    },
    {
      "cell_type": "markdown",
      "metadata": {
        "id": "LeX0hIWlWCWS",
        "colab_type": "text"
      },
      "source": [
        "[[2], [3], [4], [3], [4], [5], [4], [5], [6]]"
      ]
    },
    {
      "cell_type": "code",
      "metadata": {
        "id": "l2Dw-I_-WDDL",
        "colab_type": "code",
        "colab": {
          "base_uri": "https://localhost:8080/",
          "height": 35
        },
        "outputId": "9a5b7af5-b378-4bef-940f-60601125b1d1"
      },
      "source": [
        "num1=[2,3,4]\n",
        "result4=[[i+j] for i in num1 for j in range(0,3)]\n",
        "result4"
      ],
      "execution_count": 30,
      "outputs": [
        {
          "output_type": "execute_result",
          "data": {
            "text/plain": [
              "[[2], [3], [4], [3], [4], [5], [4], [5], [6]]"
            ]
          },
          "metadata": {
            "tags": []
          },
          "execution_count": 30
        }
      ]
    },
    {
      "cell_type": "markdown",
      "metadata": {
        "id": "gu_blaKNWIaQ",
        "colab_type": "text"
      },
      "source": [
        "[[2, 3, 4, 5], [3, 4, 5, 6], [4, 5, 6, 7], [5, 6, 7, 8]]"
      ]
    },
    {
      "cell_type": "code",
      "metadata": {
        "id": "p5eSlJApWKyj",
        "colab_type": "code",
        "colab": {
          "base_uri": "https://localhost:8080/",
          "height": 35
        },
        "outputId": "02da98d1-5f6b-4cee-f180-97bbdb4a30d4"
      },
      "source": [
        "num2=[2,3,4,5]\n",
        "result5=[[i+j for j in range(0,4)] for i in num2]\n",
        "result5"
      ],
      "execution_count": 31,
      "outputs": [
        {
          "output_type": "execute_result",
          "data": {
            "text/plain": [
              "[[2, 3, 4, 5], [3, 4, 5, 6], [4, 5, 6, 7], [5, 6, 7, 8]]"
            ]
          },
          "metadata": {
            "tags": []
          },
          "execution_count": 31
        }
      ]
    },
    {
      "cell_type": "markdown",
      "metadata": {
        "id": "YKQSWLW5VwiZ",
        "colab_type": "text"
      },
      "source": [
        "[(1, 1), (2, 1), (3, 1), (1, 2), (2, 2), (3, 2), (1, 3), (2, 3), (3, 3)]"
      ]
    },
    {
      "cell_type": "code",
      "metadata": {
        "id": "Xd5JfMsKVxLK",
        "colab_type": "code",
        "colab": {
          "base_uri": "https://localhost:8080/",
          "height": 35
        },
        "outputId": "8e9b2df2-fc4d-464e-9c21-1ac18d6f1268"
      },
      "source": [
        "num3=[1,2,3]\n",
        "result6=[(j,i) for i in num3 for j in num3]\n",
        "result6"
      ],
      "execution_count": 29,
      "outputs": [
        {
          "output_type": "execute_result",
          "data": {
            "text/plain": [
              "[(1, 1), (2, 1), (3, 1), (1, 2), (2, 2), (3, 2), (1, 3), (2, 3), (3, 3)]"
            ]
          },
          "metadata": {
            "tags": []
          },
          "execution_count": 29
        }
      ]
    }
  ]
}