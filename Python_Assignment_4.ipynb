{
  "nbformat": 4,
  "nbformat_minor": 0,
  "metadata": {
    "colab": {
      "name": "Python Assignment 4.ipynb",
      "provenance": []
    },
    "kernelspec": {
      "name": "python3",
      "display_name": "Python 3"
    }
  },
  "cells": [
    {
      "cell_type": "markdown",
      "metadata": {
        "id": "J9jMOOOdZPm8",
        "colab_type": "text"
      },
      "source": [
        "\n",
        "**Q1.1** Write a Python Program(with class concepts) to find the area of the triangle using the below formula. area = (s(s-a)(s-b)*(s-c)) ** 0.5 Function to take the length of the sides of triangle from user should be defined in the parent class and function to calculate the area should be defined in subclass."
      ]
    },
    {
      "cell_type": "code",
      "metadata": {
        "id": "cTp_1qhOYXF2",
        "colab_type": "code",
        "colab": {
          "base_uri": "https://localhost:8080/",
          "height": 86
        },
        "outputId": "77369bdc-1b89-4bcb-db56-c8ebc3e493b4"
      },
      "source": [
        "class lbh():\n",
        "    def __init__(self, a, b, c): \n",
        "        self.a = a\n",
        "        self.b = b\n",
        "        self.c = c\n",
        "    @classmethod\n",
        "    def from_input(cls):\n",
        "        return cls(\n",
        "            float(input('Enter Value of a: ')),\n",
        "            float(input('Enter Value of b: ')), \n",
        "            float(input('Enter Value of c: ')),\n",
        "        )\n",
        "class Area(lbh):\n",
        "    def __init__(self,*args):\n",
        "        super(Area, self).__init__(*args) \n",
        "    def area(self):\n",
        "        s=(self.a+self.b+self.c)/2\n",
        "        area_t= (s*(s-self.a)*(s-self.b)*(s-self.c)) ** 0.5 \n",
        "        return area_t\n",
        "\n",
        "x=lbh.from_input()\n",
        "ans=Area(x.a,x.b,x.c)\n",
        "print('Area of traingle is :', ( ans.area()) )"
      ],
      "execution_count": 32,
      "outputs": [
        {
          "output_type": "stream",
          "text": [
            "Enter Value of a: 4.50\n",
            "Enter Value of b: 2.377\n",
            "Enter Value of c: 3.902\n",
            "Area of traingle is : 4.634887842658486\n"
          ],
          "name": "stdout"
        }
      ]
    },
    {
      "cell_type": "markdown",
      "metadata": {
        "id": "d8JjSyDsZWo0",
        "colab_type": "text"
      },
      "source": [
        "**Q1.2** Write a function filter_long_words() that takes a list of words and an integer n and returns the list of words that are longer than n."
      ]
    },
    {
      "cell_type": "code",
      "metadata": {
        "id": "s0bb_rq_Zfpe",
        "colab_type": "code",
        "colab": {}
      },
      "source": [
        "def filter_long_words(w,n):\n",
        "    l=[]\n",
        "    for i in range(len(w)):\n",
        "        if(len(w[i])>n):\n",
        "            l.append(w[i])\n",
        "    return l"
      ],
      "execution_count": 0,
      "outputs": []
    },
    {
      "cell_type": "code",
      "metadata": {
        "id": "aVg-xD63ZoIt",
        "colab_type": "code",
        "colab": {
          "base_uri": "https://localhost:8080/",
          "height": 35
        },
        "outputId": "e5a8143a-6c24-45da-ac22-1a974a770c64"
      },
      "source": [
        "w=['a','ab','cde','rabbit','tiger']\n",
        "filter_long_words(w,3)"
      ],
      "execution_count": 36,
      "outputs": [
        {
          "output_type": "execute_result",
          "data": {
            "text/plain": [
              "['rabbit', 'tiger']"
            ]
          },
          "metadata": {
            "tags": []
          },
          "execution_count": 36
        }
      ]
    },
    {
      "cell_type": "markdown",
      "metadata": {
        "id": "BOkpK-w6ZvVI",
        "colab_type": "text"
      },
      "source": [
        "\n",
        "**Q2.1** Write a Python program using function concept that maps list of words into a list of integers representing the lengths of the corresponding words ."
      ]
    },
    {
      "cell_type": "code",
      "metadata": {
        "id": "VBc3m3gHZ1Hi",
        "colab_type": "code",
        "colab": {}
      },
      "source": [
        "def length_of_words(l):\n",
        "    e=[]\n",
        "    for i in range(len(l)):\n",
        "        e.append(len(l[i]))\n",
        "    return e"
      ],
      "execution_count": 0,
      "outputs": []
    },
    {
      "cell_type": "code",
      "metadata": {
        "id": "wEFO-6ZHZ8xs",
        "colab_type": "code",
        "colab": {
          "base_uri": "https://localhost:8080/",
          "height": 35
        },
        "outputId": "c630bcf1-466e-4d8f-c686-1b79b45ea798"
      },
      "source": [
        "length_of_words(['anand','vickysoni', 'vaibhavjais','sudh'])"
      ],
      "execution_count": 39,
      "outputs": [
        {
          "output_type": "execute_result",
          "data": {
            "text/plain": [
              "[5, 9, 11, 4]"
            ]
          },
          "metadata": {
            "tags": []
          },
          "execution_count": 39
        }
      ]
    },
    {
      "cell_type": "markdown",
      "metadata": {
        "id": "W6ozRSmdaKPM",
        "colab_type": "text"
      },
      "source": [
        "**Q2.2** Write a Python function which takes a character (i.e. a string of length 1) and returns True if it is a vowel, False otherwise."
      ]
    },
    {
      "cell_type": "code",
      "metadata": {
        "id": "noZx-s6KaS4h",
        "colab_type": "code",
        "colab": {}
      },
      "source": [
        "def isvowel(c):\n",
        "    l='aeiou'\n",
        "    return c in l"
      ],
      "execution_count": 0,
      "outputs": []
    },
    {
      "cell_type": "code",
      "metadata": {
        "id": "WhHx7M97aWz7",
        "colab_type": "code",
        "colab": {
          "base_uri": "https://localhost:8080/",
          "height": 35
        },
        "outputId": "b1f8333a-ca53-45af-e7c4-ad5e53500026"
      },
      "source": [
        "isvowel('i')"
      ],
      "execution_count": 41,
      "outputs": [
        {
          "output_type": "execute_result",
          "data": {
            "text/plain": [
              "True"
            ]
          },
          "metadata": {
            "tags": []
          },
          "execution_count": 41
        }
      ]
    },
    {
      "cell_type": "code",
      "metadata": {
        "id": "8yZEWE8babrJ",
        "colab_type": "code",
        "colab": {
          "base_uri": "https://localhost:8080/",
          "height": 35
        },
        "outputId": "30d9c76e-cf44-44cf-99a8-7df73e7f1037"
      },
      "source": [
        "isvowel('j')"
      ],
      "execution_count": 42,
      "outputs": [
        {
          "output_type": "execute_result",
          "data": {
            "text/plain": [
              "False"
            ]
          },
          "metadata": {
            "tags": []
          },
          "execution_count": 42
        }
      ]
    }
  ]
}